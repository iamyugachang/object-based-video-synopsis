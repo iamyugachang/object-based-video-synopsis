{
 "cells": [
  {
   "cell_type": "code",
   "execution_count": 11,
   "metadata": {},
   "outputs": [],
   "source": [
    "import cv2"
   ]
  },
  {
   "cell_type": "code",
   "execution_count": 12,
   "metadata": {},
   "outputs": [
    {
     "name": "stdout",
     "output_type": "stream",
     "text": [
      "/home/video_synopsis/src/yolov4-deepsort/data/video/office_demo.avi\r\n"
     ]
    }
   ],
   "source": [
    "!ls /home/video_synopsis/src/yolov4-deepsort/data/video/office_demo.avi"
   ]
  },
  {
   "cell_type": "code",
   "execution_count": 17,
   "metadata": {},
   "outputs": [],
   "source": [
    "import numpy as np\n",
    "import cv2 as cv\n",
    "import os\n",
    "\n",
    "\n",
    "\n",
    "cap = cv.VideoCapture(\"/home/video_synopsis/src/yolov4-deepsort/data/video/video_synopsis_test3.mp4\")\n",
    "\n",
    "cnt = 0\n",
    "background  = np.zeros((1080,1920,3),np.float64)\n",
    "while True:\n",
    "    ret, frame = cap.read()\n",
    "    if ret is False:\n",
    "        break\n",
    "#     print(frame.shape)\n",
    "    background = background + frame/255.0\n",
    "\n",
    "    if cv.waitKey(1) & 0xFF == ord('q'):\n",
    "        break\n",
    "    cnt += 1\n",
    "\n",
    "background /= cnt\n",
    "background *= 255\n",
    "cv2.imwrite(\"back_test.png\",background)\n",
    "cap.release()\n",
    "cv.destroyAllWindows()\n"
   ]
  },
  {
   "cell_type": "code",
   "execution_count": null,
   "metadata": {},
   "outputs": [],
   "source": []
  }
 ],
 "metadata": {
  "kernelspec": {
   "display_name": "Python 3",
   "language": "python",
   "name": "python3"
  },
  "language_info": {
   "codemirror_mode": {
    "name": "ipython",
    "version": 3
   },
   "file_extension": ".py",
   "mimetype": "text/x-python",
   "name": "python",
   "nbconvert_exporter": "python",
   "pygments_lexer": "ipython3",
   "version": "3.7.6"
  }
 },
 "nbformat": 4,
 "nbformat_minor": 4
}
